{
 "cells": [
  {
   "cell_type": "markdown",
   "id": "0f70474e",
   "metadata": {},
   "source": [
    "#  ML PROJECT\n",
    "##       GOLD  PRICE PREDICTION "
   ]
  },
  {
   "cell_type": "code",
   "execution_count": 4,
   "id": "bc86c166",
   "metadata": {},
   "outputs": [],
   "source": [
    "#import libraries\n",
    "import numpy as np\n",
    "import pandas as pd\n",
    "import matplotlib.pyplot as plt\n",
    "import seaborn as sns\n",
    "from sklearn.model_selection import train_test_split\n",
    "from sklearn.ensemble import RandomForestRegressor\n",
    "from sklearn import metrics"
   ]
  },
  {
   "cell_type": "code",
   "execution_count": 5,
   "id": "8c97ce69",
   "metadata": {},
   "outputs": [],
   "source": [
    "# loading the csv data to a Pandas DataFrame\n",
    "gold_data = pd.read_csv('gld_price_data.csv')"
   ]
  },
  {
   "cell_type": "code",
   "execution_count": 6,
   "id": "7052ebe1",
   "metadata": {},
   "outputs": [
    {
     "data": {
      "text/html": [
       "<div>\n",
       "<style scoped>\n",
       "    .dataframe tbody tr th:only-of-type {\n",
       "        vertical-align: middle;\n",
       "    }\n",
       "\n",
       "    .dataframe tbody tr th {\n",
       "        vertical-align: top;\n",
       "    }\n",
       "\n",
       "    .dataframe thead th {\n",
       "        text-align: right;\n",
       "    }\n",
       "</style>\n",
       "<table border=\"1\" class=\"dataframe\">\n",
       "  <thead>\n",
       "    <tr style=\"text-align: right;\">\n",
       "      <th></th>\n",
       "      <th>Date</th>\n",
       "      <th>SPX</th>\n",
       "      <th>GLD</th>\n",
       "      <th>USO</th>\n",
       "      <th>SLV</th>\n",
       "      <th>EUR/USD</th>\n",
       "    </tr>\n",
       "  </thead>\n",
       "  <tbody>\n",
       "    <tr>\n",
       "      <th>0</th>\n",
       "      <td>1/2/2008</td>\n",
       "      <td>1447.160034</td>\n",
       "      <td>84.860001</td>\n",
       "      <td>78.470001</td>\n",
       "      <td>15.180</td>\n",
       "      <td>1.471692</td>\n",
       "    </tr>\n",
       "    <tr>\n",
       "      <th>1</th>\n",
       "      <td>1/3/2008</td>\n",
       "      <td>1447.160034</td>\n",
       "      <td>85.570000</td>\n",
       "      <td>78.370003</td>\n",
       "      <td>15.285</td>\n",
       "      <td>1.474491</td>\n",
       "    </tr>\n",
       "    <tr>\n",
       "      <th>2</th>\n",
       "      <td>1/4/2008</td>\n",
       "      <td>1411.630005</td>\n",
       "      <td>85.129997</td>\n",
       "      <td>77.309998</td>\n",
       "      <td>15.167</td>\n",
       "      <td>1.475492</td>\n",
       "    </tr>\n",
       "    <tr>\n",
       "      <th>3</th>\n",
       "      <td>1/7/2008</td>\n",
       "      <td>1416.180054</td>\n",
       "      <td>84.769997</td>\n",
       "      <td>75.500000</td>\n",
       "      <td>15.053</td>\n",
       "      <td>1.468299</td>\n",
       "    </tr>\n",
       "    <tr>\n",
       "      <th>4</th>\n",
       "      <td>1/8/2008</td>\n",
       "      <td>1390.189941</td>\n",
       "      <td>86.779999</td>\n",
       "      <td>76.059998</td>\n",
       "      <td>15.590</td>\n",
       "      <td>1.557099</td>\n",
       "    </tr>\n",
       "  </tbody>\n",
       "</table>\n",
       "</div>"
      ],
      "text/plain": [
       "       Date          SPX        GLD        USO     SLV   EUR/USD\n",
       "0  1/2/2008  1447.160034  84.860001  78.470001  15.180  1.471692\n",
       "1  1/3/2008  1447.160034  85.570000  78.370003  15.285  1.474491\n",
       "2  1/4/2008  1411.630005  85.129997  77.309998  15.167  1.475492\n",
       "3  1/7/2008  1416.180054  84.769997  75.500000  15.053  1.468299\n",
       "4  1/8/2008  1390.189941  86.779999  76.059998  15.590  1.557099"
      ]
     },
     "execution_count": 6,
     "metadata": {},
     "output_type": "execute_result"
    }
   ],
   "source": [
    "# print first 5 rows in the dataframe\n",
    "gold_data.head()\n"
   ]
  },
  {
   "cell_type": "code",
   "execution_count": 7,
   "id": "8156650c",
   "metadata": {},
   "outputs": [
    {
     "data": {
      "text/html": [
       "<div>\n",
       "<style scoped>\n",
       "    .dataframe tbody tr th:only-of-type {\n",
       "        vertical-align: middle;\n",
       "    }\n",
       "\n",
       "    .dataframe tbody tr th {\n",
       "        vertical-align: top;\n",
       "    }\n",
       "\n",
       "    .dataframe thead th {\n",
       "        text-align: right;\n",
       "    }\n",
       "</style>\n",
       "<table border=\"1\" class=\"dataframe\">\n",
       "  <thead>\n",
       "    <tr style=\"text-align: right;\">\n",
       "      <th></th>\n",
       "      <th>Date</th>\n",
       "      <th>SPX</th>\n",
       "      <th>GLD</th>\n",
       "      <th>USO</th>\n",
       "      <th>SLV</th>\n",
       "      <th>EUR/USD</th>\n",
       "    </tr>\n",
       "  </thead>\n",
       "  <tbody>\n",
       "    <tr>\n",
       "      <th>2285</th>\n",
       "      <td>5/8/2018</td>\n",
       "      <td>2671.919922</td>\n",
       "      <td>124.589996</td>\n",
       "      <td>14.0600</td>\n",
       "      <td>15.5100</td>\n",
       "      <td>1.186789</td>\n",
       "    </tr>\n",
       "    <tr>\n",
       "      <th>2286</th>\n",
       "      <td>5/9/2018</td>\n",
       "      <td>2697.790039</td>\n",
       "      <td>124.330002</td>\n",
       "      <td>14.3700</td>\n",
       "      <td>15.5300</td>\n",
       "      <td>1.184722</td>\n",
       "    </tr>\n",
       "    <tr>\n",
       "      <th>2287</th>\n",
       "      <td>5/10/2018</td>\n",
       "      <td>2723.070068</td>\n",
       "      <td>125.180000</td>\n",
       "      <td>14.4100</td>\n",
       "      <td>15.7400</td>\n",
       "      <td>1.191753</td>\n",
       "    </tr>\n",
       "    <tr>\n",
       "      <th>2288</th>\n",
       "      <td>5/14/2018</td>\n",
       "      <td>2730.129883</td>\n",
       "      <td>124.489998</td>\n",
       "      <td>14.3800</td>\n",
       "      <td>15.5600</td>\n",
       "      <td>1.193118</td>\n",
       "    </tr>\n",
       "    <tr>\n",
       "      <th>2289</th>\n",
       "      <td>5/16/2018</td>\n",
       "      <td>2725.780029</td>\n",
       "      <td>122.543800</td>\n",
       "      <td>14.4058</td>\n",
       "      <td>15.4542</td>\n",
       "      <td>1.182033</td>\n",
       "    </tr>\n",
       "  </tbody>\n",
       "</table>\n",
       "</div>"
      ],
      "text/plain": [
       "           Date          SPX         GLD      USO      SLV   EUR/USD\n",
       "2285   5/8/2018  2671.919922  124.589996  14.0600  15.5100  1.186789\n",
       "2286   5/9/2018  2697.790039  124.330002  14.3700  15.5300  1.184722\n",
       "2287  5/10/2018  2723.070068  125.180000  14.4100  15.7400  1.191753\n",
       "2288  5/14/2018  2730.129883  124.489998  14.3800  15.5600  1.193118\n",
       "2289  5/16/2018  2725.780029  122.543800  14.4058  15.4542  1.182033"
      ]
     },
     "execution_count": 7,
     "metadata": {},
     "output_type": "execute_result"
    }
   ],
   "source": [
    "# print last 5 rows of the dataframe\n",
    "gold_data.tail()"
   ]
  },
  {
   "cell_type": "code",
   "execution_count": 9,
   "id": "01786744",
   "metadata": {},
   "outputs": [
    {
     "name": "stdout",
     "output_type": "stream",
     "text": [
      "<class 'pandas.core.frame.DataFrame'>\n",
      "RangeIndex: 2290 entries, 0 to 2289\n",
      "Data columns (total 6 columns):\n",
      " #   Column   Non-Null Count  Dtype  \n",
      "---  ------   --------------  -----  \n",
      " 0   Date     2290 non-null   object \n",
      " 1   SPX      2290 non-null   float64\n",
      " 2   GLD      2290 non-null   float64\n",
      " 3   USO      2290 non-null   float64\n",
      " 4   SLV      2290 non-null   float64\n",
      " 5   EUR/USD  2290 non-null   float64\n",
      "dtypes: float64(5), object(1)\n",
      "memory usage: 107.5+ KB\n"
     ]
    }
   ],
   "source": [
    "# data info\n",
    "gold_data.info()"
   ]
  },
  {
   "cell_type": "code",
   "execution_count": 10,
   "id": "d8b40d9e",
   "metadata": {},
   "outputs": [
    {
     "data": {
      "text/plain": [
       "Date       0\n",
       "SPX        0\n",
       "GLD        0\n",
       "USO        0\n",
       "SLV        0\n",
       "EUR/USD    0\n",
       "dtype: int64"
      ]
     },
     "execution_count": 10,
     "metadata": {},
     "output_type": "execute_result"
    }
   ],
   "source": [
    "# checking the number of missing values\n",
    "gold_data.isnull().sum()"
   ]
  },
  {
   "cell_type": "code",
   "execution_count": 11,
   "id": "7459dc2f",
   "metadata": {},
   "outputs": [
    {
     "data": {
      "text/html": [
       "<div>\n",
       "<style scoped>\n",
       "    .dataframe tbody tr th:only-of-type {\n",
       "        vertical-align: middle;\n",
       "    }\n",
       "\n",
       "    .dataframe tbody tr th {\n",
       "        vertical-align: top;\n",
       "    }\n",
       "\n",
       "    .dataframe thead th {\n",
       "        text-align: right;\n",
       "    }\n",
       "</style>\n",
       "<table border=\"1\" class=\"dataframe\">\n",
       "  <thead>\n",
       "    <tr style=\"text-align: right;\">\n",
       "      <th></th>\n",
       "      <th>SPX</th>\n",
       "      <th>GLD</th>\n",
       "      <th>USO</th>\n",
       "      <th>SLV</th>\n",
       "      <th>EUR/USD</th>\n",
       "    </tr>\n",
       "  </thead>\n",
       "  <tbody>\n",
       "    <tr>\n",
       "      <th>count</th>\n",
       "      <td>2290.000000</td>\n",
       "      <td>2290.000000</td>\n",
       "      <td>2290.000000</td>\n",
       "      <td>2290.000000</td>\n",
       "      <td>2290.000000</td>\n",
       "    </tr>\n",
       "    <tr>\n",
       "      <th>mean</th>\n",
       "      <td>1654.315776</td>\n",
       "      <td>122.732875</td>\n",
       "      <td>31.842221</td>\n",
       "      <td>20.084997</td>\n",
       "      <td>1.283653</td>\n",
       "    </tr>\n",
       "    <tr>\n",
       "      <th>std</th>\n",
       "      <td>519.111540</td>\n",
       "      <td>23.283346</td>\n",
       "      <td>19.523517</td>\n",
       "      <td>7.092566</td>\n",
       "      <td>0.131547</td>\n",
       "    </tr>\n",
       "    <tr>\n",
       "      <th>min</th>\n",
       "      <td>676.530029</td>\n",
       "      <td>70.000000</td>\n",
       "      <td>7.960000</td>\n",
       "      <td>8.850000</td>\n",
       "      <td>1.039047</td>\n",
       "    </tr>\n",
       "    <tr>\n",
       "      <th>25%</th>\n",
       "      <td>1239.874969</td>\n",
       "      <td>109.725000</td>\n",
       "      <td>14.380000</td>\n",
       "      <td>15.570000</td>\n",
       "      <td>1.171313</td>\n",
       "    </tr>\n",
       "    <tr>\n",
       "      <th>50%</th>\n",
       "      <td>1551.434998</td>\n",
       "      <td>120.580002</td>\n",
       "      <td>33.869999</td>\n",
       "      <td>17.268500</td>\n",
       "      <td>1.303297</td>\n",
       "    </tr>\n",
       "    <tr>\n",
       "      <th>75%</th>\n",
       "      <td>2073.010070</td>\n",
       "      <td>132.840004</td>\n",
       "      <td>37.827501</td>\n",
       "      <td>22.882500</td>\n",
       "      <td>1.369971</td>\n",
       "    </tr>\n",
       "    <tr>\n",
       "      <th>max</th>\n",
       "      <td>2872.870117</td>\n",
       "      <td>184.589996</td>\n",
       "      <td>117.480003</td>\n",
       "      <td>47.259998</td>\n",
       "      <td>1.598798</td>\n",
       "    </tr>\n",
       "  </tbody>\n",
       "</table>\n",
       "</div>"
      ],
      "text/plain": [
       "               SPX          GLD          USO          SLV      EUR/USD\n",
       "count  2290.000000  2290.000000  2290.000000  2290.000000  2290.000000\n",
       "mean   1654.315776   122.732875    31.842221    20.084997     1.283653\n",
       "std     519.111540    23.283346    19.523517     7.092566     0.131547\n",
       "min     676.530029    70.000000     7.960000     8.850000     1.039047\n",
       "25%    1239.874969   109.725000    14.380000    15.570000     1.171313\n",
       "50%    1551.434998   120.580002    33.869999    17.268500     1.303297\n",
       "75%    2073.010070   132.840004    37.827501    22.882500     1.369971\n",
       "max    2872.870117   184.589996   117.480003    47.259998     1.598798"
      ]
     },
     "execution_count": 11,
     "metadata": {},
     "output_type": "execute_result"
    }
   ],
   "source": [
    "# getting the statistical measures of the data\n",
    "gold_data.describe()"
   ]
  },
  {
   "cell_type": "code",
   "execution_count": 12,
   "id": "6c264b3f",
   "metadata": {},
   "outputs": [],
   "source": [
    "correlation = gold_data.corr()"
   ]
  },
  {
   "cell_type": "code",
   "execution_count": 9,
   "id": "2b4d5239",
   "metadata": {},
   "outputs": [
    {
     "data": {
      "text/plain": [
       "<AxesSubplot:>"
      ]
     },
     "execution_count": 9,
     "metadata": {},
     "output_type": "execute_result"
    },
    {
     "data": {
      "image/png": "[encoded data removed]",
      "text/plain": [
       "<Figure size 576x576 with 2 Axes>"
      ]
     },
     "metadata": {
      "needs_background": "light"
     },
     "output_type": "display_data"
    }
   ],
   "source": [
    "# constructing a heatmap to understand the correlatiom\n",
    "plt.figure(figsize = (8,8))\n",
    "sns.heatmap(correlation, cbar=True, square=True, fmt='.1f',annot=True, annot_kws={'size':8}, cmap='Blues')"
   ]
  },
  {
   "cell_type": "code",
   "execution_count": 13,
   "id": "faab6779",
   "metadata": {},
   "outputs": [
    {
     "name": "stdout",
     "output_type": "stream",
     "text": [
      "SPX        0.049345\n",
      "GLD        1.000000\n",
      "USO       -0.186360\n",
      "SLV        0.866632\n",
      "EUR/USD   -0.024375\n",
      "Name: GLD, dtype: float64\n"
     ]
    }
   ],
   "source": [
    "# correlation values of GLD\n",
    "print(correlation['GLD'])"
   ]
  },
  {
   "cell_type": "code",
   "execution_count": 14,
   "id": "bf89a6b9",
   "metadata": {},
   "outputs": [
    {
     "name": "stderr",
     "output_type": "stream",
     "text": [
      "C:\\Users\\RANJAN KUMAR\\anaconda3\\lib\\site-packages\\seaborn\\distributions.py:2619: FutureWarning: `distplot` is a deprecated function and will be removed in a future version. Please adapt your code to use either `displot` (a figure-level function with similar flexibility) or `histplot` (an axes-level function for histograms).\n",
      "  warnings.warn(msg, FutureWarning)\n"
     ]
    },
    {
     "data": {
      "text/plain": [
       "<AxesSubplot:xlabel='GLD', ylabel='Density'>"
      ]
     },
     "execution_count": 14,
     "metadata": {},
     "output_type": "execute_result"
    },
    {
     "data": {
      "image/png": "[encoded data removed]",
      "text/plain": [
       "<Figure size 432x288 with 1 Axes>"
      ]
     },
     "metadata": {
      "needs_background": "light"
     },
     "output_type": "display_data"
    }
   ],
   "source": [
    "# checking the distribution of the GLD Price\n",
    "sns.distplot(gold_data['GLD'],color='green')"
   ]
  },
  {
   "cell_type": "code",
   "execution_count": 15,
   "id": "3dba235d",
   "metadata": {},
   "outputs": [],
   "source": [
    "#Splitting the Features and Target\n",
    "X = gold_data.drop(['Date','GLD'],axis=1)\n",
    "Y = gold_data['GLD']"
   ]
  },
  {
   "cell_type": "code",
   "execution_count": 13,
   "id": "ec86f53d",
   "metadata": {},
   "outputs": [
    {
     "name": "stdout",
     "output_type": "stream",
     "text": [
      "              SPX        USO      SLV   EUR/USD\n",
      "0     1447.160034  78.470001  15.1800  1.471692\n",
      "1     1447.160034  78.370003  15.2850  1.474491\n",
      "2     1411.630005  77.309998  15.1670  1.475492\n",
      "3     1416.180054  75.500000  15.0530  1.468299\n",
      "4     1390.189941  76.059998  15.5900  1.557099\n",
      "...           ...        ...      ...       ...\n",
      "2285  2671.919922  14.060000  15.5100  1.186789\n",
      "2286  2697.790039  14.370000  15.5300  1.184722\n",
      "2287  2723.070068  14.410000  15.7400  1.191753\n",
      "2288  2730.129883  14.380000  15.5600  1.193118\n",
      "2289  2725.780029  14.405800  15.4542  1.182033\n",
      "\n",
      "[2290 rows x 4 columns]\n"
     ]
    }
   ],
   "source": [
    "print(X)"
   ]
  },
  {
   "cell_type": "code",
   "execution_count": 16,
   "id": "cd1f27f5",
   "metadata": {},
   "outputs": [
    {
     "name": "stdout",
     "output_type": "stream",
     "text": [
      "0        84.860001\n",
      "1        85.570000\n",
      "2        85.129997\n",
      "3        84.769997\n",
      "4        86.779999\n",
      "           ...    \n",
      "2285    124.589996\n",
      "2286    124.330002\n",
      "2287    125.180000\n",
      "2288    124.489998\n",
      "2289    122.543800\n",
      "Name: GLD, Length: 2290, dtype: float64\n"
     ]
    }
   ],
   "source": [
    "print(Y)"
   ]
  },
  {
   "cell_type": "code",
   "execution_count": 19,
   "id": "d309c172",
   "metadata": {},
   "outputs": [],
   "source": [
    "#Splitting into Training data and Test Data\n",
    "X_train, X_test, Y_train, Y_test = train_test_split(X, Y, test_size = 0.2, random_state=2)"
   ]
  },
  {
   "cell_type": "code",
   "execution_count": 40,
   "id": "494d0d97",
   "metadata": {},
   "outputs": [],
   "source": [
    "#model training\n",
    "model = RandomForestRegressor(n_estimators=100)"
   ]
  },
  {
   "cell_type": "code",
   "execution_count": 41,
   "id": "501b5a30",
   "metadata": {},
   "outputs": [
    {
     "data": {
      "text/plain": [
       "RandomForestRegressor()"
      ]
     },
     "execution_count": 41,
     "metadata": {},
     "output_type": "execute_result"
    }
   ],
   "source": [
    "# training the model\n",
    "model.fit(X_train,Y_train)"
   ]
  },
  {
   "cell_type": "code",
   "execution_count": 42,
   "id": "49e16292",
   "metadata": {},
   "outputs": [],
   "source": [
    "#model evaluation\n",
    "# prediction on Test Data\n",
    "test_data_prediction = model.predict(X_test)"
   ]
  },
  {
   "cell_type": "code",
   "execution_count": 43,
   "id": "2886972c",
   "metadata": {},
   "outputs": [
    {
     "name": "stdout",
     "output_type": "stream",
     "text": [
      "[168.80409977  81.94009991 116.10660017 127.68220091 120.66770154\n",
      " 154.81749801 150.16559825 126.04690015 117.45569872 126.17130013\n",
      " 116.46150123 172.32970076 142.00319816 167.92309816 115.21549999\n",
      " 117.69660062 139.1975029  170.18820092 159.74720358 155.87299913\n",
      " 155.11159997 125.22839961 176.22159953 157.16760332 125.19140041\n",
      "  93.6242998   77.87380022 120.52559995 119.23669973 167.44709929\n",
      "  88.09580016 125.21260004  91.14780101 117.70110025 121.1137992\n",
      " 136.00810127 115.56970096 115.0534006  148.62120024 107.18870106\n",
      " 104.24800252  87.10129796 126.47480087 118.2459001  152.20909881\n",
      " 119.54290018 108.42839975 108.28899811  93.16600039 127.23529738\n",
      "  74.66270035 113.60559932 121.53030016 111.15589935 118.9142988\n",
      " 120.82529931 159.32530112 167.61670164 147.11959685  85.79799866\n",
      "  94.27860037  86.65579876  90.49159991 118.69070086 126.41650036\n",
      " 127.65759993 169.91709973 122.31399901 117.38639874  98.75200042\n",
      " 167.52110172 142.83949838 132.13590262 120.96670222 121.14269962\n",
      " 119.82990061 114.50270172 118.18440064 107.1760009  128.08130093\n",
      " 114.00239949 107.65719995 116.8442007  119.585899    89.24730097\n",
      "  88.28159869 146.56000167 127.21490006 113.35840009 110.14399854\n",
      " 108.16979907  77.41889907 170.09940257 114.12989928 121.73619899\n",
      " 127.95980152 155.13839864  91.75349942 136.10410076 158.83240337\n",
      " 125.67660036 125.06510082 130.50020146 114.90390127 119.83250009\n",
      "  92.24110012 110.31399887 167.75409968 156.74839858 114.19799952\n",
      " 106.72400138  79.42820003 113.06820035 125.77370073 107.30709931\n",
      " 119.07140112 155.66620261 159.52359844 119.99810004 134.64080222\n",
      " 101.38379974 117.44999807 119.19000018 112.97060061 102.7795993\n",
      " 159.62799755  98.91050037 147.92049946 125.47740133 169.69369879\n",
      " 125.72359944 127.46779713 127.36430187 113.77819931 112.57360063\n",
      " 123.74619926 102.21869906  89.24659999 124.54469977 101.71649939\n",
      " 107.1554991  113.29770063 117.38400095  99.33459955 121.74450021\n",
      " 163.67959907  87.32639885 106.82329995 117.23650044 127.78360103\n",
      " 124.06320053  80.75839934 120.25150056 158.10609773  87.89379966\n",
      " 110.34739909 118.86829921 172.54369865 103.03319897 105.79500047\n",
      " 122.46180058 158.57199719  87.62559829  93.36430037 112.63670048\n",
      " 177.44649922 114.43419964 119.23150043  94.55700106 125.94260034\n",
      " 165.93060118 114.84160076 116.69760105  88.28079854 148.78730085\n",
      " 120.26509984  89.46560018 112.35589996 117.73269996 118.75700122\n",
      "  88.3814997   94.12669983 116.74030052 118.47820213 120.19170011\n",
      " 126.72509844 122.01539956 149.60540006 165.60660095 118.60299923\n",
      " 120.21960145 151.05110026 118.55009913 172.75129874 105.54079928\n",
      " 104.94270119 149.34160107 113.57870075 124.7265009  147.37819982\n",
      " 119.41520135 115.51300061 112.4852     113.36520238 141.66250144\n",
      " 117.86079771 102.86940053 115.82710092 103.73150167  98.96700068\n",
      " 117.35170073  90.85440002  91.66350052 153.40779874 102.68829978\n",
      " 155.27500099 114.38020191 138.5083011   90.0682986  115.48909919\n",
      " 114.6349998  123.30950023 121.83200032 165.15730114  92.94589949\n",
      " 135.77180101 121.38649894 120.831401   105.00530018 141.00760272\n",
      " 121.46259918 116.58440035 113.30200095 127.02299762 122.90109943\n",
      " 125.68309925 121.22850049  86.88079911 132.55240178 144.75240191\n",
      "  92.65019962 157.48299915 159.10900305 126.29159923 165.09609955\n",
      " 108.95119921 109.77740053 103.72239833  94.39800084 127.87900314\n",
      " 107.28440043 160.70339942 121.78940012 132.08500011 130.55370152\n",
      " 160.13680007  90.13939885 175.43270183 128.24270085 126.82129832\n",
      "  86.61529946 124.65629959 150.43509758  89.56810043 106.83669991\n",
      " 109.14179989  84.4864987  136.13780051 154.9285024  139.6760033\n",
      "  73.95830049 151.9841014  126.01379995 126.70869973 127.46779923\n",
      " 108.66269915 156.4808998  114.54280101 116.98110121 125.07559957\n",
      " 154.04790109 121.4272997  156.44579835  93.06420082 125.48690137\n",
      " 125.77050058  87.6828004   92.1789992  126.25749944 128.17790296\n",
      " 113.32370084 117.65599736 120.95090042 127.15909804 119.83770092\n",
      " 136.51360113  93.8883993  119.77890036 113.181501    94.19229945\n",
      " 108.94959985  87.26539904 108.98849952  89.66819961  92.34110001\n",
      " 131.14710288 162.36580012  89.4627997  119.60300083 133.35220164\n",
      " 123.80310005 128.42140213 102.01909849  88.87209868 132.10620031\n",
      " 120.18880007 108.36189973 167.75840062 115.19830039  86.65249905\n",
      " 118.74740048  90.97359936 161.58670038 116.54720063 121.64370002\n",
      " 159.9101977  120.09119927 112.58659952 108.41849886 126.51860019\n",
      "  75.91570048 103.01659985 127.69190297 121.79849879  92.65560017\n",
      " 132.14310015 118.10480104 116.13349949 154.69410276 159.46690095\n",
      " 110.16099936 154.895198   119.32320104 160.71390109 118.49280014\n",
      " 158.39409981 115.0466999  116.75360037 148.66949904 114.83040084\n",
      " 125.64449859 165.40409943 117.69820021 125.0170995  153.16640375\n",
      " 153.41640287 132.2155003  114.92120047 121.06720197 125.03750096\n",
      "  89.75960045 123.24799987 154.65240115 111.77430051 106.83339975\n",
      " 161.1231008  118.31069976 165.80390056 133.81570068 114.91659947\n",
      " 153.08399962 168.66330001 115.44319987 114.00300133 157.93129856\n",
      "  85.18349891 127.21200004 127.9843006  128.6684002  124.17810057\n",
      " 123.91330083  90.44960034 152.98140018  96.98659986 137.00179966\n",
      "  88.92079899 107.63270006 115.00410035 112.36340082 124.17579908\n",
      "  91.3535989  125.35370126 162.34229915 119.80649921 165.12090068\n",
      " 126.72529801 112.28710008 127.51769922  94.89309902  91.03489988\n",
      " 103.39819904 120.69459988  83.3100995  126.48600025 160.631605\n",
      " 117.21870099 118.18250001 120.01379972 122.84529974 120.16490132\n",
      " 121.64809969 118.53150097 107.17119991 148.36090022 126.24119888\n",
      " 115.925201    74.01829997 127.81680094 153.55770107 122.05099985\n",
      " 125.63790042  88.94359998 103.30489845 124.44800058 120.30190039\n",
      "  73.41140069 151.47050036 121.36680021 104.69680005  86.35849788\n",
      " 115.12819888 172.21769836 119.8695004  160.26359788 113.17789973\n",
      " 121.17360039 118.63670123  96.0411999  118.98800012 126.15330041\n",
      " 118.62049965  96.14080077 153.71960179 122.05820041 147.1926995\n",
      " 159.46250262 114.05810039 122.60309947 150.35629796 127.27180059\n",
      " 165.91959979 134.86700041 119.96999977 167.47229819 108.40889898\n",
      " 121.57689862 139.83020112 107.00379902]\n"
     ]
    }
   ],
   "source": [
    "print(test_data_prediction)"
   ]
  },
  {
   "cell_type": "code",
   "execution_count": 44,
   "id": "6334bd6e",
   "metadata": {},
   "outputs": [
    {
     "name": "stdout",
     "output_type": "stream",
     "text": [
      "R squared error :  0.9888392523838178\n"
     ]
    }
   ],
   "source": [
    "# R squared error\n",
    "error_score = metrics.r2_score(Y_test, test_data_prediction)\n",
    "print(\"R squared error : \", error_score)"
   ]
  },
  {
   "cell_type": "code",
   "execution_count": 47,
   "id": "79bd8040",
   "metadata": {},
   "outputs": [],
   "source": [
    "#Compare the Actual Values and Predicted Values in a Plot\n",
    "Y_test = list(Y_test)"
   ]
  },
  {
   "cell_type": "code",
   "execution_count": 48,
   "id": "cbd6f106",
   "metadata": {},
   "outputs": [
    {
     "data": {
      "image/png": "[encoded data removed]",
      "text/plain": [
       "<Figure size 432x288 with 1 Axes>"
      ]
     },
     "metadata": {
      "needs_background": "light"
     },
     "output_type": "display_data"
    }
   ],
   "source": [
    "# visualisation of Actual price vs Predicted price\n",
    "plt.plot(Y_test, color='blue', label = 'Actual Value')\n",
    "plt.plot(test_data_prediction, color='green', label='Predicted Value')\n",
    "plt.title('Actual Price vs Predicted Price')\n",
    "plt.xlabel('Number of values')\n",
    "plt.ylabel('GLD Price')\n",
    "plt.legend()\n",
    "plt.show()"
   ]
  },
  {
   "cell_type": "code",
   "execution_count": 49,
   "id": "187e424a",
   "metadata": {},
   "outputs": [
    {
     "name": "stdout",
     "output_type": "stream",
     "text": [
      "Model Score/Performance on Testing data 0.9888392523838178\n"
     ]
    }
   ],
   "source": [
    "#Testing scores\n",
    "testing_test_data_prediction = model.score(X_test, Y_test)\n",
    "print(\"Model Score/Performance on Testing data\",testing_test_data_prediction)\n"
   ]
  },
  {
   "cell_type": "code",
   "execution_count": 50,
   "id": "41803af6",
   "metadata": {},
   "outputs": [
    {
     "name": "stdout",
     "output_type": "stream",
     "text": [
      "Model Score/Performance on Training data 0.9983963812102966\n"
     ]
    }
   ],
   "source": [
    "training__test_data_prediction = model.score(X_train, Y_train)\n",
    "print(\"Model Score/Performance on Training data\",training__test_data_prediction)"
   ]
  },
  {
   "cell_type": "code",
   "execution_count": 51,
   "id": "6b51af6d",
   "metadata": {},
   "outputs": [
    {
     "name": "stdout",
     "output_type": "stream",
     "text": [
      "Price of GOLD predicted by the model : = \n",
      "[84.97980009]\n"
     ]
    }
   ],
   "source": [
    "# Checking working of the model\n",
    "input_data=(1447.160034 , 78.470001 , 15.1800 , 1.471692)\n",
    "input_array=np.asarray(input_data)\n",
    "reshape_data =input_array.reshape(1,-1)\n",
    "new_pred =model.predict(reshape_data)\n",
    "print('Price of GOLD predicted by the model : = ')\n",
    "print(new_pred)"
   ]
  },
  {
   "cell_type": "markdown",
   "id": "0f97ac6d",
   "metadata": {},
   "source": [
    "#                           THANK YOU"
   ]
  }
 ],
 "metadata": {
  "kernelspec": {
   "display_name": "Python 3 (ipykernel)",
   "language": "python",
   "name": "python3"
  },
  "language_info": {
   "codemirror_mode": {
    "name": "ipython",
    "version": 3
   },
   "file_extension": ".py",
   "mimetype": "text/x-python",
   "name": "python",
   "nbconvert_exporter": "python",
   "pygments_lexer": "ipython3",
   "version": "3.9.7"
  }
 },
 "nbformat": 4,
 "nbformat_minor": 5
}
